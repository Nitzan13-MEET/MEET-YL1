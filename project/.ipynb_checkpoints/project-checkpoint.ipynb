{
 "metadata": {
  "name": ""
 },
 "nbformat": 3,
 "nbformat_minor": 0,
 "worksheets": [
  {
   "cells": [
    {
     "cell_type": "markdown",
     "metadata": {},
     "source": [
      "My project came from: http://lib.stat.cmu.edu/datasets/IQ_Brain_Size . it's about the connection of IQ and the Head Circumference."
     ]
    },
    {
     "cell_type": "code",
     "collapsed": false,
     "input": [
      "import csv\n",
      "f=open(\"brainiq.csv\" , \"rb\")\n",
      "r=csv.reader(f)\n",
      "\n",
      "IQ=[]\n",
      "HC=[]\n",
      "\n",
      "for row in r:\n",
      "    x=row[0].replace(\"\\t\", \" \")\n",
      "    z=x.split()\n",
      "    z=z[0:2]\n",
      "    s=map(float,z)\n",
      "    IQ.append(s[0])\n",
      "    HC.append(s[1])\n",
      "    \n",
      "print IQ\n",
      "print HC\n",
      "    \n",
      "f.close()"
     ],
     "language": "python",
     "metadata": {},
     "outputs": [
      {
       "output_type": "stream",
       "stream": "stdout",
       "text": [
        "[6.08, 5.73, 6.22, 5.8, 7.99, 8.42, 7.44, 6.84, 6.48, 6.43, 7.99, 8.76, 6.32, 6.32, 7.6, 7.62, 6.03, 6.59, 7.52, 7.67]\n",
        "[96.0, 89.0, 87.0, 87.0, 101.0, 103.0, 103.0, 96.0, 127.0, 126.0, 101.0, 96.0, 93.0, 88.0, 94.0, 85.0, 97.0, 114.0, 113.0, 124.0]\n"
       ]
      }
     ],
     "prompt_number": 16
    },
    {
     "cell_type": "code",
     "collapsed": false,
     "input": [
      "from pylab import *"
     ],
     "language": "python",
     "metadata": {},
     "outputs": [],
     "prompt_number": 8
    },
    {
     "cell_type": "code",
     "collapsed": false,
     "input": [
      "fig = plt.figure()\n",
      "ax = fig.add_subplot(111)\n",
      "ax.scatter(IQ,HC)\n",
      "ax.set_title('IQ and Head Circumference')\n",
      "ax.set_xlabel('IQ')\n",
      "ax.set_ylabel('Head Circumference')\n",
      "savefig(\"project.png\")"
     ],
     "language": "python",
     "metadata": {},
     "outputs": [
      {
       "metadata": {},
       "output_type": "display_data",
       "png": "[encoded data removed]",
       "text": [
        "<matplotlib.figure.Figure at 0xabd082c>"
       ]
      }
     ],
     "prompt_number": 17
    },
    {
     "cell_type": "markdown",
     "metadata": {},
     "source": [
      "This plot is about IQ and Head Circumference"
     ]
    },
    {
     "cell_type": "code",
     "collapsed": false,
     "input": [],
     "language": "python",
     "metadata": {},
     "outputs": []
    }
   ],
   "metadata": {}
  }
 ]
}